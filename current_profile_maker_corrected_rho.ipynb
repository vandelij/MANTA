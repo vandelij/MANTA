{
 "cells": [
  {
   "cell_type": "code",
   "execution_count": 1,
   "metadata": {},
   "outputs": [],
   "source": [
    "import os, sys"
   ]
  },
  {
   "cell_type": "code",
   "execution_count": 2,
   "metadata": {},
   "outputs": [
    {
     "name": "stderr",
     "output_type": "stream",
     "text": [
      "UserWarning: No `MDSplus` support: ModuleNotFoundError(\"No module named 'MDSplus'\") (omfit_mds.py@23)\n"
     ]
    }
   ],
   "source": [
    "import numpy as np\n",
    "import matplotlib.pyplot as plt \n",
    "from scipy import integrate\n",
    "from omfit_classes import omfit_eqdsk\n",
    "from omfit_classes import utils_fusion\n",
    "import matplotlib\n",
    "import matplotlib.colors as colors\n",
    "from scipy.optimize import curve_fit\n",
    "from scipy.interpolate import PchipInterpolator\n",
    "%matplotlib inline"
   ]
  },
  {
   "cell_type": "code",
   "execution_count": 3,
   "metadata": {},
   "outputs": [
    {
     "name": "stdout",
     "output_type": "stream",
     "text": [
      "['CASE', 'NW', 'NH', 'RDIM', 'ZDIM', 'RCENTR', 'RLEFT', 'ZMID', 'RMAXIS', 'ZMAXIS', 'SIMAG', 'SIBRY', 'BCENTR', 'CURRENT', 'FPOL', 'PRES', 'FFPRIM', 'PPRIME', 'PSIRZ', 'QPSI', 'NBBBS', 'LIMITR', 'RBBBS', 'ZBBBS', 'RLIM', 'ZLIM', 'RHOVN', 'AuxNamelist', 'AuxQuantities', 'fluxSurfaces']\n",
      "['R', 'Z', 'PSI', 'PSI_NORM', 'PSIRZ', 'PSIRZ_NORM', 'RHOp', 'RHOpRZ', 'FPOLRZ', 'PRESRZ', 'QPSIRZ', 'FFPRIMRZ', 'PPRIMERZ', 'PRES0RZ', 'Br', 'Bz', 'Bp', 'Bt', 'Jr', 'Jz', 'Jt', 'Jp', 'Jt_fb', 'Jpar', 'PHI', 'PHI_NORM', 'PHIRZ', 'RHOm', 'RHO', 'RHORZ', 'Rx1', 'Zx1', 'Rx2', 'Zx2']\n"
     ]
    }
   ],
   "source": [
    "#constant parameters\n",
    "clight = 3e8 #m/s\n",
    "gfile = omfit_eqdsk.OMFITgeqdsk('gNARC_k14d05R455a120')#'gNTARC_iter1_small_pedestal_n_17')\n",
    "print(gfile.keys())\n",
    "R_0 = gfile['RCENTR']\n",
    "psin = gfile['fluxSurfaces']['geo']['psin']\n",
    "#print(gfile['fluxSurfaces']['geo'].keys())\n",
    "\n",
    "print(gfile['AuxQuantities'].keys())"
   ]
  },
  {
   "cell_type": "code",
   "execution_count": 4,
   "metadata": {},
   "outputs": [],
   "source": [
    "#constant parameters\n",
    "clight = 3e8 #m/s\n",
    "\n",
    "# class in which the tokamamk information is stored\n",
    "class tokamak():\n",
    "    #this class contains information on the equilibrium geometry and the\n",
    "    #tokamak profiles. tokamak profiles can be assigned with either a file\n",
    "    #containing the profile data (not yet implemented) or parabolic profiles\n",
    "    \n",
    "    def __init__(self):\n",
    "        #name and eqdskfile\n",
    "        self.machinename='manta'\n",
    "        self.eqdsk_name ='gNTARC_iter1_small_pedestal_n_17'#'gNTARC_iter1_Stuart'#'GARC_4.55R_1.2a_updatedProfiles_altgeqdsk'\n",
    "\n",
    "        #profiles\n",
    "        self.prof_type = 'parab'\n",
    "\n",
    "        # temperature [keV]\n",
    "        self.Te_0 = 24.97\n",
    "        self.Te_sep = 0.553\n",
    "        self.Te_alpha1 = 1.4848\n",
    "        self.Te_alpha2 = 1.1313\n",
    "\n",
    "        self.Ti_0 = 24.97\n",
    "        self.Ti_sep = 0.553\n",
    "        self.Ti_alpha1 = 1.4848\n",
    "        self.Ti_alpha2 = 1.1313\n",
    "\n",
    "        #density [10^20 m^-3]\n",
    "        self.n_0 = 2.87\n",
    "        self.n_sep = 0.95\n",
    "        self.n_alpha1 = 2.1212\n",
    "        self.n_alpha2 = 1.6154\n",
    "\n",
    "        self.Mi = 2.5\n",
    "\n",
    "    #initializes geometry and flux grid\n",
    "    def get_eqdsk_info(self):\n",
    "        gfile = omfit_eqdsk.OMFITgeqdsk(self.eqdsk_name)\n",
    "        self.gfile = gfile\n",
    "        #get sq_psi_n grid (maybe add other grid options in future?)\n",
    "        psin = gfile['fluxSurfaces']['geo']['psin']\n",
    "        #gfile.plot()\n",
    "        sqpsin = np.sqrt(psin)\n",
    "        self.rho = sqpsin\n",
    "        self.N_rho = len(sqpsin)\n",
    "        self.fluxSurfaceAvgr = gfile['fluxSurfaces']['geo']['rho']#['fluxSurfaces']['geo']['a']\n",
    "        self.fluxSurfaceAvgr[0] = np.min(gfile['fluxSurfaces']['geo']['a'])\n",
    "\n",
    "        #get a (at the midplane) and R_0\n",
    "        rminn = gfile['fluxSurfaces']['geo']['a']\n",
    "        self.a = rminn[-1]\n",
    "        self.R_0 = gfile['RCENTR']\n",
    "\n",
    "        #areas and volumes\n",
    "        self.area_surf = gfile['fluxSurfaces']['geo']['surfArea']\n",
    "        self.area_cross = gfile['fluxSurfaces']['geo']['cxArea']\n",
    "        self.vol = gfile['fluxSurfaces']['geo']['vol']\n",
    "        \n",
    "        #B-field\n",
    "        self.B_0 = gfile['BCENTR']\n",
    "\n",
    "        #current\n",
    "        self.I_p = gfile['CURRENT']/1.0e6\n",
    "        self.J_tavg = (gfile['fluxSurfaces']['avg']['Jt'])\n",
    "        \n",
    "        self.q_prof = gfile['QPSI']  #safety factor profile (N_rho long)\n",
    "        self.pressure_prof = gfile['PRES'] #pressure profile\n",
    "\n",
    "        self.rlim = gfile[\"RLIM\"] #R points of the wall\n",
    "        self.zlim = gfile[\"ZLIM\"] #Z points of the wall\n",
    "        self.rbbbs = gfile[\"RBBBS\"] #R points of the LCFS\n",
    "        self.zbbbs = gfile[\"ZBBBS\"] # Z points of the LCFS       \n",
    "                \n",
    "\n",
    "        \n",
    "\n",
    "    #helper routine for init_profs\n",
    "    def __f_parab(self,A_0,A_s,a_1,a_2,x):\n",
    "        return (A_0 - A_s)*(1-x**a_1)**a_2 + A_s\n",
    "    \n",
    "    #lets user use trinity profiles\n",
    "    def set_trinity_Te_prof(self, trinity_Te_profile):\n",
    "        self.trinity_Te_profile = trinity_Te_profile\n",
    "\n",
    "    #intializes T,n,eta profiles\n",
    "    def init_profs(self, filename=''):\n",
    "        gfile = omfit_eqdsk.OMFITgeqdsk(self.eqdsk_name)\n",
    "        if self.prof_type == 'parab':\n",
    "            self.Te_prof = self.__f_parab(self.Te_0,self.Te_sep,self.Te_alpha1,\\\n",
    "                                     self.Te_alpha2,self.rho)\n",
    "            self.Ti_prof = self.__f_parab(self.Ti_0,self.Ti_sep,self.Ti_alpha1,\\\n",
    "                                     self.Ti_alpha2,self.rho)\n",
    "            self.n_prof = self.__f_parab(self.n_0,self.n_sep,self.n_alpha1,self.\\\n",
    "                                    n_alpha2,self.rho)\n",
    "\n",
    "            self.Zeff_prof = 2 + np.zeros(len(self.Te_prof))\n",
    "\n",
    "            #neoclassical conductivity profile\n",
    "            self.neoclass_conductivity_prof = utils_fusion.nclass_conductivity_from_gfile(gEQDSK = gfile, Zeff = np.array([self.Zeff_prof]), psi_N = self.rho**2, Ti = np.array([self.Ti_prof*1e3]), ne = np.array([self.n_prof*1e20]), Te = np.array([self.Te_prof*1e3]),charge_number_to_use_in_ion_collisionality = 'Zeff', charge_number_to_use_in_ion_lnLambda = 'Zeff', Zis = [2])[0]\n",
    "            #flux averaged bootstrap current profile\n",
    "            self.J_BS_prof = utils_fusion.sauter_bootstrap(gEQDSKs = gfile, Zeff = np.array([self.Zeff_prof]), psi_N = self.rho**2, \n",
    "                                                        Ti = np.array([self.Ti_prof*1e3]), ne = np.array([self.n_prof*1e20]), Te = np.array([self.Te_prof*1e3]),\n",
    "                                                        charge_number_to_use_in_ion_collisionality = 'Zeff', charge_number_to_use_in_ion_lnLambda = 'Zeff',\n",
    "                                                        Zis = [2], R0 = self.R_0, p = np.array([self.pressure_prof]), version = 'osborne')[0]\n",
    "            #there are some divide by zeros in the above calculation, so this smooths that over. Bandaid fix.\n",
    "            self.J_BS_prof[np.isnan(self.J_BS_prof)] = 0; self.J_BS_prof[self.J_BS_prof == np.inf] = 0\n",
    "\n",
    "            #neoclassical resistivity profile\n",
    "            self.neoEta_prof = utils_fusion.eta_par_neo(zeff = self.Zeff_prof, te = self.Te_prof*1e3, \n",
    "                ne = self.n_prof*1e20, q = self.q_prof, R0 = (self.R_0 + np.zeros(len(self.Te_prof))), rho = self.fluxSurfaceAvgr)\n",
    "\n",
    "\n",
    "            \"\"\"\n",
    "            fig,ax = plt.subplots()\n",
    "            ax.plot(self.rho, self.J_BS_prof, label = 'BS')\n",
    "            ax.plot(self.rho, self.J_tavg, label = 'flux avg J')\n",
    "            ax.legend()\n",
    "            plt.show()\n",
    "            \"\"\"\n",
    "\n",
    "            \"\"\"\n",
    "            fig,ax = plt.subplots()\n",
    "            ax.plot(self.rho, self.Te_prof*1e3, label = \"Te prof\",color ='r')\n",
    "            ax1= ax.twinx()\n",
    "            ax1.plot(self.rho, self.n_prof*1e20, label = \"ne prof\", color = 'b')\n",
    "            ax.legend()\n",
    "            ax1.legend()\n",
    "            plt.show()\n",
    "            \"\"\"\n",
    "        \n",
    "        elif self.prof_type == 'trinity':\n",
    "            print('TRINITY CALLED')\n",
    "            self.Te_prof = self.trinity_Te_profile  # set the Te profile from trinity \n",
    "            self.Ti_prof = self.__f_parab(self.Ti_0,self.Ti_sep,self.Ti_alpha1,\\\n",
    "                                     self.Ti_alpha2,self.rho)\n",
    "            self.n_prof = self.__f_parab(self.n_0,self.n_sep,self.n_alpha1,self.\\\n",
    "                                    n_alpha2,self.rho)\n",
    "\n",
    "            self.Zeff_prof = 2 + np.zeros(len(self.Te_prof))\n",
    "\n",
    "            #neoclassical conductivity profile\n",
    "            self.neoclass_conductivity_prof = utils_fusion.nclass_conductivity_from_gfile(gEQDSK = gfile, Zeff = np.array([self.Zeff_prof]), psi_N = self.rho**2, Ti = np.array([self.Ti_prof*1e3]), ne = np.array([self.n_prof*1e20]), Te = np.array([self.Te_prof*1e3]),charge_number_to_use_in_ion_collisionality = 'Zeff', charge_number_to_use_in_ion_lnLambda = 'Zeff', Zis = [2])[0]\n",
    "            #flux averaged bootstrap current profile\n",
    "            self.J_BS_prof = utils_fusion.sauter_bootstrap(gEQDSKs = gfile, Zeff = np.array([self.Zeff_prof]), psi_N = self.rho**2, \n",
    "                                                        Ti = np.array([self.Ti_prof*1e3]), ne = np.array([self.n_prof*1e20]), Te = np.array([self.Te_prof*1e3]),\n",
    "                                                        charge_number_to_use_in_ion_collisionality = 'Zeff', charge_number_to_use_in_ion_lnLambda = 'Zeff',\n",
    "                                                        Zis = [2], R0 = self.R_0, p = np.array([self.pressure_prof]), version = 'osborne')[0]\n",
    "            #there are some divide by zeros in the above calculation, so this smooths that over. Bandaid fix.\n",
    "            self.J_BS_prof[np.isnan(self.J_BS_prof)] = 0; self.J_BS_prof[self.J_BS_prof == np.inf] = 0\n",
    "\n",
    "            #neoclassical resistivity profile\n",
    "            self.neoEta_prof = utils_fusion.eta_par_neo(zeff = self.Zeff_prof, te = self.Te_prof*1e3, \n",
    "                ne = self.n_prof*1e20, q = self.q_prof, R0 = (self.R_0 + np.zeros(len(self.Te_prof))), rho = self.fluxSurfaceAvgr)\n",
    "        else:\n",
    "            raise Exception('no other prof_types supported rn')\n",
    "        \n",
    "    def get_Te_from_J(self, J_rho):\n",
    "        R0 = self.R_0\n",
    "        rho = self.rho\n",
    "        a = self.a\n",
    "        if len(J_rho) != len(rho):\n",
    "            raise ValueError(f'Array length error. Length of J_rho = {len(J_rho)},\\\n",
    "                             length of rho = {len(rho)}')\n",
    "        r_array = rho*a\n",
    "        neoEta = self.neoEta_prof  \n",
    "        # Find integration constant to conserve the Ip total current. Note chease redoes this so\n",
    "        # this is not actually critical for the output profile. \n",
    "        C = self.gfile['CURRENT']/integrate.cumtrapz((1/(neoEta*R_0)), self.area_cross)[-1]\n",
    "        \n",
    "        R = R = self.gfile['fluxSurfaces']['geo']['R'] \n",
    "        \n",
    "        return ((3.3e-8)*(R/C)*(1 - (r_array/R0)**0.5)**(-2)*J_rho)**(2/3)\n",
    "        \n",
    "        \n",
    "        \n",
    "        \n",
    "        "
   ]
  },
  {
   "cell_type": "code",
   "execution_count": 5,
   "metadata": {},
   "outputs": [],
   "source": [
    "%matplotlib inline"
   ]
  },
  {
   "cell_type": "code",
   "execution_count": 6,
   "metadata": {},
   "outputs": [
    {
     "name": "stdout",
     "output_type": "stream",
     "text": [
      "(157,)\n",
      "161\n"
     ]
    }
   ],
   "source": [
    "# read in Haley's arrays \n",
    "\n",
    "ne_Hal = np.loadtxt('highnsep_ne_haley.txt')\n",
    "ne_Hal = ne_Hal.flatten()[:-4]\n",
    "\n",
    "ni_Hal = np.loadtxt('highnsep_ni_haley.txt')\n",
    "ni_Hal = ne_Hal.flatten()[:-4]\n",
    "\n",
    "ne_Hal = ne_Hal/1e20\n",
    "ni_Hal = ni_Hal/1e20\n",
    "\n",
    "Ti_Hal = np.loadtxt('highnsep_Ti_haley.txt')\n",
    "Ti_Hal = Ti_Hal.flatten()[:-1]/1000\n",
    "\n",
    "Te_Hal = np.loadtxt('highnsep_Te_haley.txt')\n",
    "Te_Hal = Te_Hal.flatten()[:-1]/1000\n",
    "\n",
    "rho_Hal_T = np.linspace(0, 0.8, len(Te_Hal))\n",
    "rho_Hal_ni = np.linspace(0, 0.8, len(ni_Hal))\n",
    "rho_Hal_ne = np.linspace(0, 0.8, len(ne_Hal))\n",
    "\n",
    "get_Hal_ne = PchipInterpolator(rho_Hal_ne, ne_Hal)\n",
    "get_Hal_ni = PchipInterpolator(rho_Hal_ni, ni_Hal)\n",
    "get_Hal_Te = PchipInterpolator(rho_Hal_T, Te_Hal)\n",
    "get_Hal_Ti = PchipInterpolator(rho_Hal_T, Ti_Hal)\n",
    "\n",
    "\n",
    "print(ni_Hal.shape)\n",
    "print(len(ne_Hal))"
   ]
  },
  {
   "cell_type": "code",
   "execution_count": 7,
   "metadata": {},
   "outputs": [
    {
     "data": {
      "text/plain": [
       "[<matplotlib.lines.Line2D at 0x15cac0c9670>]"
      ]
     },
     "execution_count": 7,
     "metadata": {},
     "output_type": "execute_result"
    },
    {
     "data": {
      "image/png": "[encoded data removed]",
      "text/plain": [
       "<Figure size 432x288 with 1 Axes>"
      ]
     },
     "metadata": {
      "needs_background": "light"
     },
     "output_type": "display_data"
    }
   ],
   "source": [
    "plt.plot(rho_Hal_T, Te_Hal)\n",
    "plt.plot(rho_Hal_T, Ti_Hal)"
   ]
  },
  {
   "cell_type": "code",
   "execution_count": 8,
   "metadata": {},
   "outputs": [
    {
     "data": {
      "text/plain": [
       "[<matplotlib.lines.Line2D at 0x15cad8225e0>]"
      ]
     },
     "execution_count": 8,
     "metadata": {},
     "output_type": "execute_result"
    },
    {
     "data": {
      "image/png": "[encoded data removed]",
      "text/plain": [
       "<Figure size 432x288 with 1 Axes>"
      ]
     },
     "metadata": {
      "needs_background": "light"
     },
     "output_type": "display_data"
    }
   ],
   "source": [
    "\n",
    "\n",
    "plt.plot(rho_Hal_ne, ne_Hal)\n",
    "plt.plot(rho_Hal_ni, ni_Hal)"
   ]
  },
  {
   "cell_type": "code",
   "execution_count": 9,
   "metadata": {},
   "outputs": [
    {
     "name": "stdout",
     "output_type": "stream",
     "text": [
      "8.52807294\n",
      "(162,)\n",
      "(162,)\n"
     ]
    },
    {
     "data": {
      "image/png": "[encoded data removed]",
      "text/plain": [
       "<Figure size 432x288 with 1 Axes>"
      ]
     },
     "metadata": {
      "needs_background": "light"
     },
     "output_type": "display_data"
    }
   ],
   "source": [
    "# Haley Cell \n",
    "def convert(rho1,rho2,prof1):\n",
    "    prof1fun = PchipInterpolator(rho1,prof1)\n",
    "    rhoconvfun = PchipInterpolator(rho2,rho1)\n",
    "    prof2 = prof1fun(rhoconvfun(rho2))\n",
    "    prof2fun = PchipInterpolator(rho2,prof2)\n",
    "    #assert np.all(prof1fun(rho1)-prof2fun(rho2) == 0)\n",
    "    return prof2fun\n",
    "\n",
    "rho_pol = np.sqrt(gfile['AuxQuantities']['PSI_NORM'])\n",
    "rho_tor = np.sqrt(gfile['AuxQuantities']['PHI_NORM'])\n",
    "\n",
    "trinity_rho = rho_Hal_ne\n",
    "\n",
    "T_i = get_Hal_Ti(trinity_rho)\n",
    "T_e = get_Hal_Te(trinity_rho)\n",
    "n_i = get_Hal_ni(trinity_rho)\n",
    "n_e = get_Hal_ne(trinity_rho)\n",
    "\n",
    "\n",
    "#pressure \n",
    "n_edge = 0.9\n",
    "T_edge = 0.435\n",
    "p_edge = n_edge*(T_edge * 2)\n",
    "p_edge = n_edge*(T_i[-1]+T_e[-1])\n",
    "p_Hal = (n_i*T_i + n_e*T_e)\n",
    "# plt.plot(trinity_rho, p_Hal)\n",
    "pcore = p_Hal\n",
    "pcore = np.append(pcore, np.array([p_edge]))\n",
    "plt.plot(np.append(trinity_rho, np.array([1])), pcore)\n",
    "print(pcore[-1])\n",
    "pcore = pcore*1e3*1.6e-19*1e20\n",
    "\n",
    "\n",
    "\n",
    "# Add edge temperature \n",
    "trinity_rho = np.append(trinity_rho, np.array([1]))\n",
    "T_i = np.append(T_i, np.array([T_edge]))\n",
    "T_e = np.append(T_e, np.array([T_edge]))\n",
    "\n",
    "# get the trinity poloidal rho\n",
    "tor_to_pol = PchipInterpolator(rho_tor, rho_pol)\n",
    "trinity_rho_pol = tor_to_pol(trinity_rho) \n",
    "#print(trinity_rho_pol)\n",
    "\n",
    "convert_Tetor_to_Tepol = convert(trinity_rho, trinity_rho_pol, T_e)\n",
    "convert_Titor_to_Tipol = convert(trinity_rho, trinity_rho_pol, T_i)\n",
    "print(trinity_rho.shape)\n",
    "print(pcore.shape)\n",
    "convert_pcoretor_to_pcorpol = convert(trinity_rho, trinity_rho_pol, pcore)\n",
    "\n",
    "T_e = convert_Tetor_to_Tepol(trinity_rho)\n",
    "T_i = convert_Titor_to_Tipol(trinity_rho)\n",
    "pcore = convert_pcoretor_to_pcorpol(trinity_rho)\n",
    "\n",
    "\n"
   ]
  },
  {
   "cell_type": "code",
   "execution_count": 69,
   "metadata": {},
   "outputs": [
    {
     "name": "stdout",
     "output_type": "stream",
     "text": [
      "1.0\n",
      "1.0\n",
      "dict_keys(['trinity_infile', 'species', 'species_tags', 'n_evolve_species', 'T_evolve_species', 'time', 'grid', 'geo', 'norms', 't', 'n_D', 'p_D', 'T_D', 'pflux_D', 'qflux_D', 'heat_D', 'aLn_D', 'aLT_D', 'aLp_D', 'Sn_aux_D', 'Sp_aux_D', 'Sp_alpha_D', 'Sp_rad_D', 'Sp_heating_D', 'Sp_coll_D', 'Sp_tot_D', 'Sp_aux_int_MW_D', 'Q_MW_D', 'Sp_tot_int_MW_D', 'Gam_SI20_D', 'Sn_tot_int_SI20_D', 'n_e', 'p_e', 'T_e', 'pflux_e', 'qflux_e', 'heat_e', 'aLn_e', 'aLT_e', 'aLp_e', 'Sn_aux_e', 'Sp_aux_e', 'Sp_alpha_e', 'Sp_rad_e', 'Sp_heating_e', 'Sp_coll_e', 'Sp_tot_e', 'Sp_aux_int_MW_e', 'Q_MW_e', 'Sp_tot_int_MW_e', 'Gam_SI20_e', 'Sn_tot_int_SI20_e', 'Palpha_MWm3', 'Palpha_int_MW', 'solver_jacobian', 'solver_rhs'])\n",
      "---\n",
      "{'N_radial': 9, 'rho_edge': 0.9, 'rho_inner': 0.052941176470588235, 'rho_axis': array([0.05294118, 0.15882353, 0.26470588, 0.37058824, 0.47647059,\n",
      "       0.58235294, 0.68823529, 0.79411765, 0.9       ]), 'mid_axis': array([0.10588235, 0.21176471, 0.31764706, 0.42352941, 0.52941176,\n",
      "       0.63529412, 0.74117647, 0.84705882]), 'drho': 0.10588235294117647, 'flux_label': 'torflux'}\n",
      "-----*-\n",
      "[0.05294118 0.15882353 0.26470588 0.37058824 0.47647059 0.58235294\n",
      " 0.68823529 0.79411765 0.9       ]\n",
      "[0.         0.05294118 0.15882353 0.26470588 0.37058824 0.47647059\n",
      " 0.58235294 0.68823529 0.79411765 0.9        1.        ]\n",
      "[0.         0.06212539 0.18632202 0.30981262 0.43090283 0.54728845\n",
      " 0.65727042 0.75961589 0.85303272 0.93516029 1.        ]\n"
     ]
    },
    {
     "data": {
      "image/png": "[encoded data removed]",
      "text/plain": [
       "<Figure size 432x288 with 1 Axes>"
      ]
     },
     "metadata": {
      "needs_background": "light"
     },
     "output_type": "display_data"
    }
   ],
   "source": [
    "#TODO TODO: DO NOT RUN IF YOU WANT HALEY'S STUFF\n",
    "\n",
    "def convert(rho1,rho2,prof1):\n",
    "    prof1fun = PchipInterpolator(rho1,prof1)\n",
    "    rhoconvfun = PchipInterpolator(rho2,rho1)\n",
    "    prof2 = prof1fun(rhoconvfun(rho2))\n",
    "    prof2fun = PchipInterpolator(rho2,prof2)\n",
    "    #assert np.all(prof1fun(rho1)-prof2fun(rho2) == 0)\n",
    "    return prof2fun\n",
    "\n",
    "rho_pol = np.sqrt(gfile['AuxQuantities']['PSI_NORM'])\n",
    "rho_tor = np.sqrt(gfile['AuxQuantities']['PHI_NORM'])\n",
    "print(rho_pol[-1])\n",
    "print(rho_tor[-1])\n",
    "#with open('log_trinity.npy', 'rb') as f:#'NTARC_zeta_iter1b_ray_EQDSK.npy', 'rb') as f:\n",
    "#log_trinity_n180.npy\n",
    "with open('log_trinity_Ip88.npy', 'rb') as f:  #'transport_iter1b_new.npy' 'log_trinity_hires.npy' 'log_trinity_Ip88.npy'\n",
    "    data = np.load(f, allow_pickle=True).tolist()\n",
    "#data = np.load('NTARC_zeta_iter1b_ray_EQDSK.npy', allow_pickle=True).tolist()\n",
    "print(data.keys())\n",
    "time = np.array( data['time'  ] )\n",
    "#tags = data['species_tags']\n",
    "#print(data['p_e'][-1].shape[0])\n",
    "print('---')\n",
    "print(data['grid'])\n",
    "T_e = data['p_e'][-1]/data['n_e'][-1] #data['T_e'][-1]\n",
    "trinity_rho = data['grid']['rho_axis']\n",
    "print('-----*-')\n",
    "print(trinity_rho)\n",
    "trinity_rho = np.append(np.array([0]), trinity_rho)\n",
    "trinity_rho = np.append(trinity_rho, np.array([1]))\n",
    "#trinity_rho = np.array([0, 0.1, 0.3, 0.5, 0.7, 0.9, 1])\n",
    "#trinity_rho = np.linspace(0, 1, 5)\n",
    "T_e = np.append(np.array([T_e[0]*1.01]), T_e)\n",
    "T_e = np.append(T_e, np.array([0.435]))\n",
    "plt.scatter(trinity_rho, T_e)\n",
    "#plt.plot(manta.rho, manta.Te_prof)\n",
    "plt.ylabel(r'$T_e(\\rho)$')\n",
    "plt.xlabel(r'$\\rho$')\n",
    "plt.title(r'Trinity $T_e$ profile')\n",
    "print(trinity_rho)\n",
    "\n",
    "# T_i\n",
    "T_i = data['p_D'][-1]/data['n_D'][-1] #data['T_e'][-1]\n",
    "T_i = np.append(np.array([T_i[0]*1.01]), T_i)\n",
    "T_i = np.append(T_i, np.array([0.435]))\n",
    "\n",
    "# new stuff for pressure profile matching\n",
    "\n",
    "pcore = data['p_e'][-1] + data['p_D'][-1]  # right now, D includes T \n",
    "pcore = np.append(np.array(pcore[0]*1.01), pcore)\n",
    "pcore = np.append(pcore, np.array([0]))\n",
    "pcore = pcore*1e3*1.6e-19*1e20\n",
    "\n",
    "\n",
    "#------------------------------------------------------------\n",
    "# NEW SECTION: carfully change trinity_rho, which is rho_tor, to rho_pol, \n",
    "# as is used in the rest of the script\n",
    "\n",
    "# get the trinity poloidal rho\n",
    "tor_to_pol = PchipInterpolator(rho_tor, rho_pol)\n",
    "trinity_rho_pol = tor_to_pol(trinity_rho) \n",
    "print(trinity_rho_pol)\n",
    "\n",
    "convert_Tetor_to_Tepol = convert(trinity_rho, trinity_rho_pol, T_e)\n",
    "convert_Titor_to_Tipol = convert(trinity_rho, trinity_rho_pol, T_i)\n",
    "convert_pcoretor_to_pcorpol = convert(trinity_rho, trinity_rho_pol, pcore)\n",
    "\n",
    "T_e = convert_Tetor_to_Tepol(trinity_rho)\n",
    "T_i = convert_Titor_to_Tipol(trinity_rho)\n",
    "pcore = convert_pcoretor_to_pcorpol(trinity_rho)\n",
    "\n",
    "\n",
    "# rhocore = trinity_rho#np.array([0.1, 0.3, 0.5, 0.7, 0.9])\n",
    "# rhopcore = np.array([0.2,0.4,0.6,0.8])\n",
    "# psicore = rhocore**2\n",
    "# psipcore = np.array([(psicore[i+1]+psicore[i])/2 for i in range(len(psicore)-1)])\n",
    "# TODO: ^^  \n",
    "\n",
    "\n",
    "#ppcore_trinity = -1/2/rhopcore*1.6e4*(data['aLpe'][-1]/a*np.interp(psipcore,psicore,data['pe'][-1])+data['aLpi'][-1]/a*np.interp(psipcore,psicore,transport['pi'][-1]))\n",
    "# ncore = data['n'][-1]\n",
    "# Tecore = data['pe'][-1]/ncore\n",
    "# Ticore = data['pi'][-1]/ncore"
   ]
  },
  {
   "cell_type": "code",
   "execution_count": 10,
   "metadata": {},
   "outputs": [
    {
     "ename": "NameError",
     "evalue": "name 'data' is not defined",
     "output_type": "error",
     "traceback": [
      "\u001b[1;31m---------------------------------------------------------------------------\u001b[0m",
      "\u001b[1;31mNameError\u001b[0m                                 Traceback (most recent call last)",
      "\u001b[1;32mc:\\Users\\Jacob\\Desktop\\MANTA_local\\current_profile_maker_corrected_rho.ipynb Cell 11\u001b[0m in \u001b[0;36m<cell line: 2>\u001b[1;34m()\u001b[0m\n\u001b[0;32m      <a href='vscode-notebook-cell:/c%3A/Users/Jacob/Desktop/MANTA_local/current_profile_maker_corrected_rho.ipynb#W6sZmlsZQ%3D%3D?line=0'>1</a>\u001b[0m jjj \u001b[39m=\u001b[39m \u001b[39m1e3\u001b[39m\u001b[39m*\u001b[39m\u001b[39m1.6e-19\u001b[39m\u001b[39m*\u001b[39m\u001b[39m1e20\u001b[39m\n\u001b[1;32m----> <a href='vscode-notebook-cell:/c%3A/Users/Jacob/Desktop/MANTA_local/current_profile_maker_corrected_rho.ipynb#W6sZmlsZQ%3D%3D?line=1'>2</a>\u001b[0m plt\u001b[39m.\u001b[39mplot(data[\u001b[39m'\u001b[39m\u001b[39mgrid\u001b[39m\u001b[39m'\u001b[39m][\u001b[39m'\u001b[39m\u001b[39mrho_axis\u001b[39m\u001b[39m'\u001b[39m], data[\u001b[39m'\u001b[39m\u001b[39mp_e\u001b[39m\u001b[39m'\u001b[39m][\u001b[39m-\u001b[39m\u001b[39m1\u001b[39m])\n\u001b[0;32m      <a href='vscode-notebook-cell:/c%3A/Users/Jacob/Desktop/MANTA_local/current_profile_maker_corrected_rho.ipynb#W6sZmlsZQ%3D%3D?line=2'>3</a>\u001b[0m plt\u001b[39m.\u001b[39mplot(trinity_rho, pcore\u001b[39m/\u001b[39mjjj)\n",
      "\u001b[1;31mNameError\u001b[0m: name 'data' is not defined"
     ]
    }
   ],
   "source": [
    "jjj = 1e3*1.6e-19*1e20\n",
    "plt.plot(data['grid']['rho_axis'], data['p_e'][-1])\n",
    "plt.plot(trinity_rho, pcore/jjj)"
   ]
  },
  {
   "cell_type": "code",
   "execution_count": 11,
   "metadata": {},
   "outputs": [
    {
     "name": "stderr",
     "output_type": "stream",
     "text": [
      "Got Zeff instead of nis and Zis: density and charge state lists for ion species.\n",
      "I CAN GIVE YOU AN APPROXIMATION BUT IT'S NOT GOING TO BE AS GOOD AS IF YOU GAVE ME LISTS OF DENSITIES.\n",
      "You will get a better result if you do not pass in Zeff but use nis and Zis instead.\n",
      "Got Zeff instead of nis and Zis: density and charge state lists for ion species.\n",
      "I CAN GIVE YOU AN APPROXIMATION BUT IT'S NOT GOING TO BE AS GOOD AS IF YOU GAVE ME LISTS OF DENSITIES.\n",
      "You will get a better result if you do not pass in Zeff but use nis and Zis instead.\n"
     ]
    },
    {
     "name": "stdout",
     "output_type": "stream",
     "text": [
      "  sauter_bootstrap: extracting data from gfiles...\n",
      "TRINITY CALLED\n"
     ]
    },
    {
     "name": "stderr",
     "output_type": "stream",
     "text": [
      "Got Zeff instead of nis and Zis: density and charge state lists for ion species.\n",
      "I CAN GIVE YOU AN APPROXIMATION BUT IT'S NOT GOING TO BE AS GOOD AS IF YOU GAVE ME LISTS OF DENSITIES.\n",
      "You will get a better result if you do not pass in Zeff but use nis and Zis instead.\n",
      "Got Zeff instead of nis and Zis: density and charge state lists for ion species.\n",
      "I CAN GIVE YOU AN APPROXIMATION BUT IT'S NOT GOING TO BE AS GOOD AS IF YOU GAVE ME LISTS OF DENSITIES.\n",
      "You will get a better result if you do not pass in Zeff but use nis and Zis instead.\n"
     ]
    },
    {
     "name": "stdout",
     "output_type": "stream",
     "text": [
      "  sauter_bootstrap: extracting data from gfiles...\n",
      "Ip =  8895022.195922263\n",
      "Ip2 =  9999063.55\n",
      "Ip3 =  8799788.460000006\n",
      "trinity\n",
      "[11092649.93692913  9061693.50451543  8333034.29271164  7793314.6814547\n",
      "  7348227.17871088  6961406.91747144  6614978.20298612  6301492.11488477\n",
      "  6014280.89540676  5748234.46566948  5499190.60057036  5270163.7937797\n",
      "  5060267.98690825  4866165.13886023  4684960.72097521  4516434.94183983\n",
      "  4358244.71328787  4209879.46292395  4069683.18624711  3936832.29505091\n",
      "  3811485.40999686  3690803.88558296  3575391.46723107  3464701.9004675\n",
      "  3357961.01948723  3255157.79555621  3156801.07605666  3060838.38761766\n",
      "  2969494.95154069  2880889.40301911  2794841.65964076  2712009.02555842\n",
      "  2632073.08614471  2554983.38262835  2481652.14414811  2411824.44517234\n",
      "  2345042.28198834  2280990.94708069  2219906.71872774  2161585.22924292\n",
      "  2105321.79448863  2051507.95485508  2000085.54678165  1950388.32882185\n",
      "  1902565.95077839  1856772.0888751   1812640.22142366  1769715.0829076\n",
      "  1728082.23039974  1687539.22216977  1647884.2873093   1609174.46950144\n",
      "  1571462.92812063  1534694.26094416  1498735.34459638  1463585.55761908\n",
      "  1429335.22800686  1395904.08480317  1363163.65005602  1331178.21556814\n",
      "  1299979.32656591  1269479.9679913   1239566.45564335  1210168.45827433\n",
      "  1181326.79541561  1152969.97217643  1125044.91058374  1097629.52910332\n",
      "  1070739.45479963  1044293.09617241  1018295.62921439   992769.63253077\n",
      "   967719.91695944   943131.21435241   918978.59335013   895212.71263156\n",
      "   871976.17874631   849193.22363676   826965.60342636   805375.16649105\n",
      "   784411.2222483    764012.42190273   744171.91147226   724861.87604712\n",
      "   706072.54130266   687817.21998238   670028.55351384   652694.33661347\n",
      "   635836.59128285   619423.89839358   603428.13498479   587849.92015334\n",
      "   572695.62994143   558062.73940048   544166.87650188   528414.82679798\n",
      "   512489.13703039   496561.46199076   480635.68742729   464716.35644828\n",
      "   448808.63294551   432918.25952328   417051.53484221   401215.30172824\n",
      "   385416.99360283   369664.57674647   353966.48964302   338331.70249881\n",
      "   322769.66795099   307290.33212492   291904.00045841   276621.40749487\n",
      "   261453.59640416   246411.74662085   231507.00915186   216750.26552039\n",
      "   202151.61851931   187719.62950479   173460.20784251   159374.73392656\n",
      "   145457.03752492   131688.9959579    118033.55526959   104424.26184671\n",
      "    90750.76592551    76838.15453367    62426.81451593    47181.09465917\n",
      "    30855.79101952]\n",
      "gMANTA_iter2_Ip88_k14\n"
     ]
    },
    {
     "data": {
      "image/png": "[encoded data removed]",
      "text/plain": [
       "<Figure size 432x288 with 1 Axes>"
      ]
     },
     "metadata": {
      "needs_background": "light"
     },
     "output_type": "display_data"
    }
   ],
   "source": [
    "# New area for creating a current profile from a temp and rho profile \n",
    "from scipy import interpolate\n",
    "\n",
    "def get_Jtor_from_T2(tokamak, trinity_Te, trinity_rho, trinity_Ti):\n",
    "    \"\"\"\n",
    "    tokamak: tokamak object from Sam's loop voltage code \n",
    "    return: C/neoEta, where C is integration constant to give flux surface averaged integral of Ip\n",
    "    \"\"\"\n",
    "    rho = tokamak.rho\n",
    "    #temp_prof_func = interpolate.interp1d(trinity_rho, trinity_Te, 'cubic') # create a new temp profile that has the \n",
    "                                                              # correct number of indicies to match \n",
    "                                                              # tokamak.rho\n",
    "    temp_prof_func = interpolate.PchipInterpolator(trinity_rho, trinity_Te) # create a new temp profile that has the \n",
    "                                                          # correct number of indicies to match \n",
    "                                                          # tokamak.rho\n",
    "    temp_prof_interped =  temp_prof_func(rho)        # call said interpolated function \n",
    "    \n",
    "    timp_prof_func = interpolate.PchipInterpolator(trinity_rho, trinity_Ti) # create a new temp profile that has the \n",
    "                                                          # correct number of indicies to match \n",
    "                                                          # tokamak.rho\n",
    "    timp_prof_interped =  timp_prof_func(rho)        # call said interpolated function \n",
    "    tokamak.set_trinity_Te_prof(temp_prof_interped)  # use class method to load up this profile \n",
    "    tokamak.prof_type='trinity'                      # update profile type. For now, only overwrites \n",
    "    tokamak.init_profs()                             #   the Te profile \n",
    "    R = tokamak.gfile['fluxSurfaces']['geo']['R']    # not used rn. E goes as 1/R, but need flux surface variables\n",
    "    neoEta = tokamak.neoEta_prof  \n",
    "    # Find integration constant to conserve the Ip total current. Note chease redoes this so\n",
    "    # this is not actually critical for the output profile. \n",
    "    C = tokamak.gfile['CURRENT']/integrate.cumtrapz((1/(neoEta*tokamak.R_0)), tokamak.area_cross)[-1]\n",
    "    return C/(tokamak.R_0*neoEta), temp_prof_interped, timp_prof_interped\n",
    "\n",
    "def get_Jtor_from_T3(tokamak):\n",
    "    \"\"\"\n",
    "    tokamak: tokamak object from Sam's loop voltage code \n",
    "    \"\"\"\n",
    "    rho = tokamak.rho\n",
    "    R = tokamak.gfile['fluxSurfaces']['geo']['R']\n",
    "    neoEta = tokamak.neoEta_prof #TODO: should replace this with using the trinity temp profile \n",
    "    C = tokamak.gfile['CURRENT']/integrate.cumtrapz((1/(neoEta*tokamak.R_0)), tokamak.area_cross)[-1]\n",
    "    return C/(tokamak.R_0*neoEta)\n",
    "\n",
    "manta = tokamak()\n",
    "manta.eqdsk_name = 'gMANTA_iter2_Ip88_k14' #'gMANTA_Ip8-7_k1-40' #'gMANTA_iter2_Ip88_k14'#'gNARC_k14d05R455a120' #'gNTARC_paper' #'gNTARC3'\n",
    "manta.get_eqdsk_info()\n",
    "manta.init_profs()\n",
    "Jnew = get_Jtor_from_T3(manta)\n",
    "Jnew_trinity, Tnew_trinity, Tinew_trinity = get_Jtor_from_T2(manta, T_e, trinity_rho_pol, T_i)\n",
    "#Jnew = Jnew*(max(manta.J_tavg)/max(Jnew))\n",
    "#print(manta.gfile['fluxSurfaces']['geo']['R'])\n",
    "#print('--')\n",
    "#print(manta.rho)\n",
    "\n",
    "plt.plot(manta.rho, Jnew, label='New profile from neoclassical resistivity, temp profile')\n",
    "plt.plot(manta.rho, manta.J_tavg, label='old J_tavg')\n",
    "plt.plot(manta.rho, Jnew_trinity, label='New profile from neoclassical resistivity, trinity temp profile')\n",
    "plt.legend()\n",
    "plt.ylabel(r'J($\\rho$)')\n",
    "plt.xlabel(r'$\\rho$')\n",
    "Ip = integrate.cumtrapz(manta.J_tavg, manta.area_cross)[-1]\n",
    "Ip3 = integrate.cumtrapz(Jnew, manta.area_cross)[-1]\n",
    "Ip2 = gfile['CURRENT']\n",
    "print('Ip = ', Ip)\n",
    "print('Ip2 = ', Ip2)\n",
    "print('Ip3 = ', Ip3)\n",
    "print(manta.prof_type)\n",
    "print(Jnew_trinity)\n",
    "print(manta.eqdsk_name)\n",
    "np.save('J_new_trinity.npy', Jnew_trinity)"
   ]
  },
  {
   "cell_type": "code",
   "execution_count": 12,
   "metadata": {},
   "outputs": [],
   "source": [
    "# pressure profile fitting area\n",
    "from scipy.integrate import cumtrapz\n",
    "from scipy.interpolate import interp1d\n",
    "\n",
    "\n",
    "def sech(x):\n",
    "    return 1/np.cosh(x)\n",
    "\n",
    "def tanh_matcher(x, y2, x2, y1, x1, alpha, amin, amax, diagnostic_flag):\n",
    "    \"\"\"\n",
    "    x: x-axis variable. Must be >= x2\n",
    "    x1: x-value of first point to match to\n",
    "    x2: x-value of second point to match to (x2 must be > x1)\n",
    "    y1: y-value of first point to match to\n",
    "    y2: y-value of second point to match to\n",
    "    alpha: location of tanh curvature switch relative to x2 (must be posotive)\n",
    "    amin: guess for minimum slope\n",
    "    amax: guess for maximum slope\n",
    "    diagnostic_flag: True will show plots for finding solution, False will hide plots\n",
    "    \"\"\"\n",
    "    if x[-1] < x2:\n",
    "        print('Error: using x value below tanh fitted function range')\n",
    "    elif x2 < x1:\n",
    "        print('Error: x2 must be greater than x1')\n",
    "    elif y2 > y1:\n",
    "        print('Error: this function only works for negative slope')\n",
    "    \n",
    "    slope = (y2 - y1)/(x2-x1)\n",
    "    value = y2\n",
    "    print(slope)\n",
    "    alpha2 = alpha-x2 # shift to center on x2 instead of zero\n",
    "    print('alpha2', alpha2)\n",
    "    a_array = np.linspace(amin, amax, int(1e6))\n",
    "    d1 = value/(1-np.tanh(a_array*x2 - alpha2))\n",
    "    d2 = -slope/(a_array*sech(alpha2 - a_array*x2)**2)\n",
    "    # Solve for intersection\n",
    "    imin = np.where(np.abs(d2 - d1) == min(np.abs(d2 - d1)))\n",
    "    if diagnostic_flag:\n",
    "        ax3.plot(a_array, d1)\n",
    "        ax3.plot(a_array, d2, 'r--')\n",
    "        ax3.scatter(a_array[imin], d2[imin], marker='*', color='red')\n",
    "    \n",
    "    d = d2[imin]\n",
    "    a = a_array[imin]\n",
    "    \n",
    "    return -d*np.tanh(a*x - alpha2) + d\n",
    " \n",
    "def tanh_matcher_2_0(x, y2, x2, y1, x1, R, n, d, b, hmin, hmax, diagnostic_flag):\n",
    "\n",
    "    \"\"\"\n",
    "\n",
    "    x: x-axis variable. Must be >= x2\n",
    "\n",
    "    x1: x-value of first point to match to\n",
    "\n",
    "    x2: x-value of second point to match to (x2 must be > x1)\n",
    "\n",
    "    y1: y-value of first point to match to\n",
    "\n",
    "    y2: y-value of second point to match to\n",
    "\n",
    "    alpha: location of tanh curvature switch relative to x2 (must be posotive)\n",
    "\n",
    "    amin: guess for minimum slope\n",
    "\n",
    "    amax: guess for maximum slope\n",
    "\n",
    "    diagnostic_flag: True will show plots for finding solution, False will hide plots\n",
    "\n",
    "    \"\"\"\n",
    "\n",
    "    if x[-1] < x2:\n",
    "\n",
    "        print('Error: using x value below tanh fitted function range')\n",
    "\n",
    "    elif x2 < x1:\n",
    "\n",
    "        print('Error: x2 must be greater than x1')\n",
    "\n",
    "    elif y2 > y1:\n",
    "\n",
    "        print('Error: this function only works for negative slope')\n",
    "\n",
    "    S = (y2 - y1)/(x2-x1)\n",
    "\n",
    "    P = y2\n",
    "\n",
    "    print(S)\n",
    "\n",
    "    R2 = R+x2 # shift to center on x2 instead of zero\n",
    "\n",
    "    print('R2', R2)\n",
    "\n",
    "    h_array = np.linspace(hmin, hmax, int(1e6))\n",
    "\n",
    "    m1 = ((P - b) - (h_array/2)*(np.tanh((R2 - x2)/d)+1))/(R2 - x2 -d)**n\n",
    "\n",
    "    m2 = -(S + h_array/(2*d)*(sech((R2-x2)/d))**2) / (n*(R2- x2 - d)**(n-1))\n",
    "\n",
    "    # Solve for intersection\n",
    "\n",
    "    imin = np.where(np.abs(m2 - m1) == min(np.abs(m2 - m1)))\n",
    "\n",
    "    if diagnostic_flag:\n",
    "\n",
    "        plt.plot(h_array, m1)\n",
    "\n",
    "        plt.plot(h_array, m2, 'r--')\n",
    "\n",
    "        plt.scatter(h_array[imin], m2[imin], marker='*', color='red')\n",
    "        \n",
    "    m = m2[imin]\n",
    "\n",
    "    h = h_array[imin]\n",
    "    \n",
    "    return b + (h/2)*(np.tanh((R2-x)/d) + 1) + m* np.abs(R2 - x -d )**n * np.heaviside(R2-x-d, 0)\n",
    "   \n",
    "\n",
    "\n",
    "\n"
   ]
  },
  {
   "cell_type": "code",
   "execution_count": 13,
   "metadata": {},
   "outputs": [
    {
     "name": "stdout",
     "output_type": "stream",
     "text": [
      "129\n",
      "psicore.shape(): (162,)\n",
      "pcore.shape(): (162,)\n",
      "-1746038.9513896268\n",
      "R2 0.9859705453537526\n"
     ]
    },
    {
     "data": {
      "image/png": "[encoded data removed]",
      "text/plain": [
       "<Figure size 432x288 with 1 Axes>"
      ]
     },
     "metadata": {
      "needs_background": "light"
     },
     "output_type": "display_data"
    }
   ],
   "source": [
    "a = 1.2 #[m]\n",
    "print(manta.rho.shape[0])\n",
    "psi_norm = manta.rho**2\n",
    "psicore = trinity_rho_pol**2\n",
    "deg = 5\n",
    "paxis = pcore[0]\n",
    "psi_norm2 = psi_norm[:np.argmin(np.abs(psi_norm-0.7**2))]\n",
    "psi_norm3 = psi_norm[np.argmin(np.abs(psi_norm-0.7**2)):]\n",
    "rho3 = np.sqrt(psi_norm3)\n",
    "rho2 = np.sqrt(psi_norm2)\n",
    "print(f'psicore.shape(): {psicore.shape}')\n",
    "print(f'pcore.shape(): {pcore.shape}')\n",
    "f = interp1d(psicore,pcore,'cubic')\n",
    "pressure2 = f(psi_norm2)\n",
    "\n",
    "\n",
    "alpha = 50\n",
    "hmin = 1e3\n",
    "hmax = 1e6\n",
    "diagnostic_flag = True\n",
    "R = 0.29\n",
    "n = 1.65 #TODO: this was here\n",
    "d = 0.02\n",
    "b = 1.2e3\n",
    "# alpha = 50\n",
    "# hmin = 1e3\n",
    "# hmax = 1e6\n",
    "# diagnostic_flag = True\n",
    "# R = 0.23\n",
    "# n = 6\n",
    "# d = 0.02\n",
    "# b = 1.2e3\n",
    "\n",
    "\n",
    "### Interpolating the pedestal region\n",
    "pped = tanh_matcher_2_0(rho3, pressure2[-1], rho2[-1], pressure2[-2], rho2[-2], R, n, d, b, hmin, hmax, diagnostic_flag)\n",
    "\n",
    "\n",
    "pressure2 = np.concatenate([pressure2,pped])\n",
    "psi_norm2 = np.concatenate([psi_norm2, psi_norm3])\n",
    "\n",
    "factor1 = 1e3*1.6e-19*1e20\n",
    "np.save('pressure2.npy', pressure2/factor1)\n",
    "np.save('pressure_rho', trinity_rho)\n",
    "\n",
    "pressure_trin_units = pressure2 / factor1"
   ]
  },
  {
   "cell_type": "code",
   "execution_count": 14,
   "metadata": {},
   "outputs": [
    {
     "name": "stdout",
     "output_type": "stream",
     "text": [
      "pcore = 111.56293923721103\n",
      "psep = 3.2313907929858\n"
     ]
    },
    {
     "data": {
      "image/png": "[encoded data removed]",
      "text/plain": [
       "<Figure size 432x288 with 1 Axes>"
      ]
     },
     "metadata": {
      "needs_background": "light"
     },
     "output_type": "display_data"
    }
   ],
   "source": [
    "plt.plot(np.sqrt(psi_norm), pressure_trin_units)\n",
    "#plt.plot(psi_norm, pressure_trin_units)\n",
    "plt.scatter(np.sqrt(psicore), pcore/(factor1), color='red')\n",
    "plt.ylabel(r'Pressure [m$^-3$ keV]')\n",
    "plt.xlabel(r'$\\rho$')\n",
    "print(f'pcore = {pressure_trin_units[0]}')\n",
    "print(f'psep = {pressure_trin_units[-1]}')\n",
    "\n",
    "# get Hailey the pressure (density) at 0.9, 0.8, 0.85 \n",
    "# we need to rerun the blue loop \n",
    "\n",
    "# pressure, new eqdsk, new density \n",
    "# what are the trinity boundary conditions (density, temp) "
   ]
  },
  {
   "cell_type": "code",
   "execution_count": 15,
   "metadata": {},
   "outputs": [
    {
     "name": "stdout",
     "output_type": "stream",
     "text": [
      "Line Average Density wrong: 2.2535666801774097\n",
      "alpha1: 4.148177197402472, alpha:  6.255439655032649\n"
     ]
    },
    {
     "data": {
      "image/png": "[encoded data removed]",
      "text/plain": [
       "<Figure size 432x288 with 1 Axes>"
      ]
     },
     "metadata": {
      "needs_background": "light"
     },
     "output_type": "display_data"
    }
   ],
   "source": [
    "# fit the curve to the data in the form of the density profile function \n",
    "from scipy.optimize import curve_fit\n",
    "%matplotlib inline\n",
    "#Tnew_trinity, Tinew_trinity\n",
    "\n",
    "idx_09 = np.argmin(np.abs(np.sqrt(psi_norm) - 0.9))\n",
    "n_proff = pressure_trin_units / (Tnew_trinity + Tinew_trinity)\n",
    "#n_lineavg = 1.30#np.average(n_proff)\n",
    "print(f'Line Average Density wrong: {np.average(n_proff)}')\n",
    "\n",
    "#n_edge = n_proff[idx_09]\n",
    "\n",
    "def n_profile(rho, alpha1, alpha, n_lineavg, n_edge):\n",
    "    n_prof = (1 - rho**alpha1)**alpha\n",
    "    return (n_lineavg - n_edge) / np.average(n_prof) * n_prof + n_edge\n",
    "\n",
    "\n",
    "popt, pcov = curve_fit(n_profile, np.sqrt(psi_norm)[:idx_09], n_proff[:idx_09])\n",
    "\n",
    "rho_array = np.sqrt(psi_norm)\n",
    "rho_array_09 = rho_array[:idx_09]\n",
    "\n",
    "n_fit = n_profile(rho_array_09, popt[0], popt[1], popt[2], popt[3])\n",
    "plt.plot(rho_array_09, n_fit)\n",
    "plt.scatter(rho_array[:idx_09], n_proff[:idx_09])\n",
    "\n",
    "alpha1 = popt[0]\n",
    "alpha = popt[1]\n",
    "#print(n_profile(np.linspace(0, 1, 10), popt[0], popt[1]))\n",
    "# print(n_fit[0])\n",
    "# print(rho_array_09[0])\n",
    "# print(np.linspace(0, 1, 10))\n",
    "print(f'alpha1: {alpha1}, alpha:  {alpha}')"
   ]
  },
  {
   "cell_type": "code",
   "execution_count": 16,
   "metadata": {},
   "outputs": [
    {
     "data": {
      "text/plain": [
       "Text(0.5, 0, '$\\\\rho_{pol}$')"
      ]
     },
     "execution_count": 16,
     "metadata": {},
     "output_type": "execute_result"
    },
    {
     "data": {
      "image/png": "[encoded data removed]",
      "text/plain": [
       "<Figure size 576x360 with 1 Axes>"
      ]
     },
     "metadata": {
      "needs_background": "light"
     },
     "output_type": "display_data"
    }
   ],
   "source": [
    "fig = plt.figure()\n",
    "fig.set_figwidth(8)\n",
    "fig.set_figheight(5)\n",
    "plt.plot(rho_array, pressure_trin_units/((Tnew_trinity + Tinew_trinity)))\n",
    "plt.plot(rho_array, rho_array*0.9/rho_array, color='red', linestyle='--')\n",
    "plt.vlines(0.9, ymin=0, ymax=2.4, linestyles='dashed', colors='red', label=r'$\\rho_{pol}$ = 0.9')\n",
    "plt.legend()\n",
    "plt.ylabel(r'$n_{e}$ $10^{20} m^{-3}$')\n",
    "plt.xlabel(r'$\\rho_{pol}$')"
   ]
  },
  {
   "cell_type": "code",
   "execution_count": 17,
   "metadata": {},
   "outputs": [],
   "source": [
    "\n",
    "Tedge = (T_e[-1] + T_i[-1]) / 2\n",
    "T_core = (T_e[0] + T_i[0]) / 2\n",
    "p_core = pcore[0]/factor1\n",
    "pedge = pcore[-1]/factor1\n",
    "\n",
    "\n",
    "ne_core = ne_Hal[0]\n",
    "ne_edge = 0.9e20 #TODO: update this\n"
   ]
  },
  {
   "cell_type": "code",
   "execution_count": 37,
   "metadata": {},
   "outputs": [
    {
     "ename": "NameError",
     "evalue": "name 'data' is not defined",
     "output_type": "error",
     "traceback": [
      "\u001b[1;31m---------------------------------------------------------------------------\u001b[0m",
      "\u001b[1;31mNameError\u001b[0m                                 Traceback (most recent call last)",
      "\u001b[1;32mc:\\Users\\Jacob\\Desktop\\MANTA_local\\current_profile_maker_corrected_rho.ipynb Cell 18\u001b[0m in \u001b[0;36m<cell line: 7>\u001b[1;34m()\u001b[0m\n\u001b[0;32m      <a href='vscode-notebook-cell:/c%3A/Users/Jacob/Desktop/MANTA_local/current_profile_maker_corrected_rho.ipynb#X16sZmlsZQ%3D%3D?line=3'>4</a>\u001b[0m p_core \u001b[39m=\u001b[39m pcore[\u001b[39m0\u001b[39m]\u001b[39m/\u001b[39mfactor1\n\u001b[0;32m      <a href='vscode-notebook-cell:/c%3A/Users/Jacob/Desktop/MANTA_local/current_profile_maker_corrected_rho.ipynb#X16sZmlsZQ%3D%3D?line=4'>5</a>\u001b[0m pedge \u001b[39m=\u001b[39m pcore[\u001b[39m-\u001b[39m\u001b[39m1\u001b[39m]\u001b[39m/\u001b[39mfactor1\n\u001b[1;32m----> <a href='vscode-notebook-cell:/c%3A/Users/Jacob/Desktop/MANTA_local/current_profile_maker_corrected_rho.ipynb#X16sZmlsZQ%3D%3D?line=6'>7</a>\u001b[0m p_e \u001b[39m=\u001b[39m data[\u001b[39m'\u001b[39m\u001b[39mp_e\u001b[39m\u001b[39m'\u001b[39m][\u001b[39m-\u001b[39m\u001b[39m1\u001b[39m]\n\u001b[0;32m      <a href='vscode-notebook-cell:/c%3A/Users/Jacob/Desktop/MANTA_local/current_profile_maker_corrected_rho.ipynb#X16sZmlsZQ%3D%3D?line=7'>8</a>\u001b[0m pe_0 \u001b[39m=\u001b[39m \u001b[39m1.01\u001b[39m\u001b[39m*\u001b[39mp_e[\u001b[39m0\u001b[39m]\n\u001b[0;32m      <a href='vscode-notebook-cell:/c%3A/Users/Jacob/Desktop/MANTA_local/current_profile_maker_corrected_rho.ipynb#X16sZmlsZQ%3D%3D?line=8'>9</a>\u001b[0m ne_core \u001b[39m=\u001b[39m pe_0\u001b[39m/\u001b[39mT_e[\u001b[39m0\u001b[39m]\n",
      "\u001b[1;31mNameError\u001b[0m: name 'data' is not defined"
     ]
    }
   ],
   "source": [
    "#TODO: only run if Trinity option is run  \n",
    "trinity_rho\n",
    "Tedge = (T_e[-1] + T_i[-1]) / 2\n",
    "T_core = (T_e[0] + T_i[0]) / 2\n",
    "p_core = pcore[0]/factor1\n",
    "pedge = pcore[-1]/factor1\n",
    "\n",
    "p_e = data['p_e'][-1]\n",
    "pe_0 = 1.01*p_e[0]\n",
    "ne_core = pe_0/T_e[0]\n",
    "ne_edge = 0.9e20 #TODO: update this\n",
    "T_core"
   ]
  },
  {
   "cell_type": "code",
   "execution_count": 18,
   "metadata": {},
   "outputs": [
    {
     "name": "stdout",
     "output_type": "stream",
     "text": [
      "2.4614602770690075\n",
      "1.829576725266213\n"
     ]
    }
   ],
   "source": [
    "n_0 = n_fit[0]\n",
    "n_90 = n_fit[-1]\n",
    "print(n_0)\n",
    "print(n_90)\n",
    "\n",
    "alphas_n0_n09 = np.array([alpha1, alpha, n_0, n_90])\n",
    "export_dict = {'pressure_profile': (pressure2/factor1), \n",
    "               'pressure_rho': np.sqrt(psi_norm), \n",
    "               'alpha1_alpha_n0_n09':alphas_n0_n09,\n",
    "               'J_profile': Jnew_trinity,\n",
    "               'T_core_keV': T_core,\n",
    "               'T_sep_keV': Tedge,\n",
    "               'ne20_core': ne_core,\n",
    "               'ne20_sep': ne_edge}\n",
    "np.save('iteration1_dict.npy', export_dict, allow_pickle=True)\n",
    "# export_dict = {'pressure_profile': (pressure2/factor1), \n",
    "#                'pressure_rho': trinity_rho, \n",
    "#                'alpha1_alpha_n0_n09':alphas_n0_n09,\n",
    "#                'J_profile': Jnew_trinity,\n",
    "#                'T_core_keV': T_core,\n",
    "#                'T_sep_keV': Tedge,\n",
    "#                'ne20_core': ne_core,\n",
    "#                'ne20_sep': ne_edge}\n",
    "# np.save('iteration1_dict.npy', export_dict, allow_pickle=True)\n",
    "\n",
    "with open('nprofile.txt','w') as f:\n",
    "    txt = f'alpha1: {alpha1}\\nalpha: {alpha}\\nn0: {n_0}\\nn09: {n_90}'\n",
    "    f.write(txt)"
   ]
  },
  {
   "cell_type": "code",
   "execution_count": 19,
   "metadata": {},
   "outputs": [
    {
     "data": {
      "text/plain": [
       "dict_keys(['pressure_profile', 'pressure_rho', 'alpha1_alpha_n0_n09', 'J_profile', 'T_core_keV', 'T_sep_keV', 'ne20_core', 'ne20_sep'])"
      ]
     },
     "execution_count": 19,
     "metadata": {},
     "output_type": "execute_result"
    }
   ],
   "source": [
    "with open('iteration1_dict.npy', 'rb') as f:  #'transport_iter1b_new.npy' 'log_trinity_hires.npy'\n",
    "    load = np.load(f, allow_pickle=True).tolist()\n",
    "    \n",
    "load.keys()"
   ]
  },
  {
   "cell_type": "code",
   "execution_count": 20,
   "metadata": {},
   "outputs": [
    {
     "name": "stdout",
     "output_type": "stream",
     "text": [
      "129\n",
      "129\n",
      "[4.1481772  6.25543966 2.46146028 1.82957673]\n",
      "129\n",
      "129\n"
     ]
    }
   ],
   "source": [
    "print(load['pressure_profile'].shape[0])\n",
    "print(load['J_profile'].shape[0])\n",
    "print(load['alpha1_alpha_n0_n09'])\n",
    "print(load['pressure_rho'].shape[0])\n",
    "print(np.sqrt(psi_norm).shape[0])"
   ]
  },
  {
   "cell_type": "code",
   "execution_count": 45,
   "metadata": {},
   "outputs": [
    {
     "data": {
      "text/plain": [
       "[<matplotlib.lines.Line2D at 0x1f3016cc0d0>]"
      ]
     },
     "execution_count": 45,
     "metadata": {},
     "output_type": "execute_result"
    },
    {
     "data": {
      "image/png": "[encoded data removed]",
      "text/plain": [
       "<Figure size 432x288 with 1 Axes>"
      ]
     },
     "metadata": {
      "needs_background": "light"
     },
     "output_type": "display_data"
    }
   ],
   "source": [
    "plt.plot(load['pressure_rho'], load['J_profile']) "
   ]
  },
  {
   "cell_type": "code",
   "execution_count": 46,
   "metadata": {},
   "outputs": [
    {
     "data": {
      "text/plain": [
       "[<matplotlib.lines.Line2D at 0x1f3017028e0>]"
      ]
     },
     "execution_count": 46,
     "metadata": {},
     "output_type": "execute_result"
    },
    {
     "data": {
      "image/png": "[encoded data removed]",
      "text/plain": [
       "<Figure size 432x288 with 1 Axes>"
      ]
     },
     "metadata": {
      "needs_background": "light"
     },
     "output_type": "display_data"
    }
   ],
   "source": [
    "plt.plot(load['pressure_rho'], load['pressure_profile']) "
   ]
  },
  {
   "cell_type": "code",
   "execution_count": null,
   "metadata": {},
   "outputs": [],
   "source": []
  }
 ],
 "metadata": {
  "kernelspec": {
   "display_name": "Python 3 (ipykernel)",
   "language": "python",
   "name": "python3"
  },
  "language_info": {
   "codemirror_mode": {
    "name": "ipython",
    "version": 3
   },
   "file_extension": ".py",
   "mimetype": "text/x-python",
   "name": "python",
   "nbconvert_exporter": "python",
   "pygments_lexer": "ipython3",
   "version": "3.9.12"
  },
  "varInspector": {
   "cols": {
    "lenName": 16,
    "lenType": 16,
    "lenVar": 40
   },
   "kernels_config": {
    "python": {
     "delete_cmd_postfix": "",
     "delete_cmd_prefix": "del ",
     "library": "var_list.py",
     "varRefreshCmd": "print(var_dic_list())"
    },
    "r": {
     "delete_cmd_postfix": ") ",
     "delete_cmd_prefix": "rm(",
     "library": "var_list.r",
     "varRefreshCmd": "cat(var_dic_list()) "
    }
   },
   "types_to_exclude": [
    "module",
    "function",
    "builtin_function_or_method",
    "instance",
    "_Feature"
   ],
   "window_display": false
  }
 },
 "nbformat": 4,
 "nbformat_minor": 4
}
